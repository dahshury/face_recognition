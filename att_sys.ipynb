{
 "cells": [
  {
   "cell_type": "code",
   "execution_count": 3,
   "metadata": {},
   "outputs": [],
   "source": [
    "import cv2\n",
    "import face_recognition\n",
    "import os\n",
    "import numpy as np\n",
    "from sqlalchemy import create_engine, Column, Integer, String, Float, LargeBinary\n",
    "from sqlalchemy.orm import sessionmaker, declarative_base\n",
    "import mysql.connector"
   ]
  },
  {
   "cell_type": "markdown",
   "metadata": {},
   "source": [
    "# Initiation of MySQL database"
   ]
  },
  {
   "cell_type": "code",
   "execution_count": 4,
   "metadata": {},
   "outputs": [],
   "source": [
    "# Create the database if it doesn't exist\n",
    "def create_database():\n",
    "    conn = mysql.connector.connect(\n",
    "        host=\"host.docker.internal\",\n",
    "        user=\"root\",\n",
    "        password=\"\"\n",
    "    )\n",
    "    cursor = conn.cursor()\n",
    "    cursor.execute(\"CREATE DATABASE IF NOT EXISTS face\")\n",
    "    conn.close()\n",
    "\n",
    "# Create the database\n",
    "create_database()"
   ]
  },
  {
   "cell_type": "code",
   "execution_count": 5,
   "metadata": {},
   "outputs": [],
   "source": [
    "Base = declarative_base()\n",
    "\n",
    "class FaceEmbeddings(Base):\n",
    "    __tablename__ = 'face_embeddings'\n",
    "    id = Column(Integer, primary_key=True, autoincrement=True)\n",
    "    name = Column(String(100), nullable=False)\n",
    "    embedding = Column(LargeBinary, nullable=False) # Store embeddings as binary\n",
    "    \n",
    "database_url = 'mysql+mysqlconnector://root:@host.docker.internal/face'\n",
    "engine = create_engine(database_url)\n",
    "Base.metadata.create_all(bind=engine)\n",
    "Session = sessionmaker(bind=engine)\n",
    "session = Session()"
   ]
  },
  {
   "cell_type": "markdown",
   "metadata": {},
   "source": [
    "# Face Recognition"
   ]
  },
  {
   "cell_type": "code",
   "execution_count": 6,
   "metadata": {},
   "outputs": [
    {
     "name": "stdout",
     "output_type": "stream",
     "text": [
      "False\n"
     ]
    }
   ],
   "source": [
    "# musk\n",
    "im = cv2.imread(\"./images/musk.jpg\")\n",
    "rgb_im = cv2.cvtColor(im, cv2.COLOR_BGR2RGB)\n",
    "im_encoding = face_recognition.face_encodings(rgb_im)[0]\n",
    "\n",
    "# gates\n",
    "im2 = cv2.imread(\"./images/gates.jpg\")\n",
    "rgb_im2 = cv2.cvtColor(im2, cv2.COLOR_BGR2RGB)\n",
    "im_encoding2 = face_recognition.face_encodings(rgb_im2)[0]\n",
    "\n",
    "result = face_recognition.compare_faces([im_encoding], im_encoding2)\n",
    "print(result[0])"
   ]
  },
  {
   "cell_type": "code",
   "execution_count": 7,
   "metadata": {},
   "outputs": [],
   "source": [
    "# Video class for face recognition\n",
    "class VidFaceRec:\n",
    "    def __init__(self):\n",
    "        self.known_fe = []\n",
    "        self.known_names = []\n",
    "        self.resize_factor = 0.25  # Resize frames to 0.25 of the original size for faster encoding\n",
    "        \n",
    "    def load_encoding_images(self, image_dir):\n",
    "        \"\"\"Load and encode known faces from a directory of images.\"\"\"\n",
    "        im_names = os.listdir(image_dir)\n",
    "        print(f\"{len(im_names)} encoding images found.\")\n",
    "        \n",
    "        for im_name in im_names:\n",
    "            name = os.path.splitext(im_name)[0]  # Extract name from image file name\n",
    "            existing_face = session.query(FaceEmbeddings).filter_by(name=name).first()\n",
    "            if existing_face:\n",
    "                continue\n",
    "            im_path = os.path.join(image_dir, im_name)\n",
    "            im = cv2.imread(im_path)\n",
    "            rgb_im = cv2.cvtColor(im, cv2.COLOR_BGR2RGB)\n",
    "            \n",
    "            # Get face encodings for the image (assuming one face per image)\n",
    "            im_enc = face_recognition.face_encodings(rgb_im)\n",
    "            if len(im_enc) > 0:  # Check if a face encoding is found\n",
    "                embedding_binary = np.array(im_enc[0]).tobytes()\n",
    "                new_face = FaceEmbeddings(name=name, embedding=embedding_binary)\n",
    "                session.add(new_face)\n",
    "                session.commit()\n",
    "                print(f\"Face embedding for {name} stored in the database.\")\n",
    "                \n",
    "    def retrieve_known_faces(self):\n",
    "        \"\"\"Query the database for all stored face embeddings.\"\"\"\n",
    "        if not self.known_fe:\n",
    "            # Query all stored face embeddings from the database\n",
    "            faces = session.query(FaceEmbeddings).all()\n",
    "\n",
    "            # Deserialize embeddings and store them in lists\n",
    "            for face in faces:\n",
    "                embedding = np.frombuffer(face.embedding, dtype=np.float64)\n",
    "                self.known_fe.append(embedding)\n",
    "                self.known_names.append(face.name)\n",
    "\n",
    "            session.close()\n",
    "\n",
    "    \n",
    "    def detect_known_faces(self, frame):\n",
    "        \"\"\"Detect and recognize known faces in the current video frame.\"\"\"\n",
    "        # Resize the frame for faster processing\n",
    "        small_frame = cv2.resize(frame, (0, 0), fx=self.resize_factor, fy=self.resize_factor)\n",
    "        rgb_frame = cv2.cvtColor(small_frame, cv2.COLOR_BGR2RGB)\n",
    "        \n",
    "        # Detect face locations in the frame\n",
    "        locs = face_recognition.face_locations(rgb_frame)\n",
    "        \n",
    "        # Encode the detected faces in the frame\n",
    "        face_encodings = face_recognition.face_encodings(rgb_frame, locs)\n",
    "        self.retrieve_known_faces()\n",
    "        names = []  # List to store the names of recognized faces\n",
    "        for encoding in face_encodings:\n",
    "            # Compare detected face encodings with known face encodings\n",
    "            matches = face_recognition.compare_faces(self.known_fe, encoding)\n",
    "            name = \"Unknown\"  # Default name if no match is found\n",
    "            \n",
    "            # Compute the distance between the detected face encoding and known encodings\n",
    "            face_distances = face_recognition.face_distance(self.known_fe, encoding)\n",
    "            \n",
    "            # Select the known face with the smallest distance (most likely match)\n",
    "            best_match_index = np.argmin(face_distances)\n",
    "            \n",
    "            if matches[best_match_index]:\n",
    "                name = self.known_names[best_match_index]  # Retrieve the corresponding name\n",
    "            names.append(name)  # Append the name to the list\n",
    "        \n",
    "        # Scale face locations back to the original frame size\n",
    "        face_locations = np.array(locs) / self.resize_factor\n",
    "        return face_locations.astype(int), names  # Return face locations and names"
   ]
  },
  {
   "cell_type": "code",
   "execution_count": 9,
   "metadata": {},
   "outputs": [
    {
     "name": "stdout",
     "output_type": "stream",
     "text": [
      "4 encoding images found.\n"
     ]
    }
   ],
   "source": [
    "# Video inference\n",
    "vfrec = VidFaceRec()\n",
    "vfrec.load_encoding_images('./images')\n",
    "cap = cv2.VideoCapture('./videos/tucker_elon.mp4')\n",
    "while True:\n",
    "    ret, frame = cap.read()\n",
    "    if not ret:\n",
    "        break\n",
    "    face_locations, face_names = vfrec.detect_known_faces(frame)\n",
    "    for face_loc, name in zip(face_locations, face_names):\n",
    "        y1, x2, y2, x1 = face_loc[0], face_loc[1], face_loc[2], face_loc[3]\n",
    "        cv2.putText(frame, name, (x1, y1-10), cv2.FONT_HERSHEY_DUPLEX, 1, (0,200,0), 2)\n",
    "        cv2.rectangle(frame, (x1,y1), (x2,y2), (0,0,200), 4)\n",
    "        cv2.imshow(\"frame\", frame)\n",
    "    if cv2.waitKey(1) & 0xFF == ord('q'):\n",
    "        break\n",
    "cap.release()\n",
    "cv2.destroyAllWindows()"
   ]
  }
 ],
 "metadata": {
  "kernelspec": {
   "display_name": "face",
   "language": "python",
   "name": "python3"
  },
  "language_info": {
   "codemirror_mode": {
    "name": "ipython",
    "version": 3
   },
   "file_extension": ".py",
   "mimetype": "text/x-python",
   "name": "python",
   "nbconvert_exporter": "python",
   "pygments_lexer": "ipython3",
   "version": "3.10.15"
  }
 },
 "nbformat": 4,
 "nbformat_minor": 2
}
